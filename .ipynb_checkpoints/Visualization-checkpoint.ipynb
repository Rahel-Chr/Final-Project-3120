{
 "cells": [
  {
   "cell_type": "code",
   "execution_count": null,
   "id": "54af6d00-2ffa-4928-8850-e4b3e7116f18",
   "metadata": {},
   "outputs": [],
   "source": [
    "# Utility class: WeatherDataProcessor (Handles visualizations and insights)\n",
    "class WeatherDataProcessor:\n",
    "    @staticmethod\n",
    "    # Method to plot a line chart of weather data\n",
    "    def plot_line_chart(df):\n",
    "        \"\"\"Plot weather data as a line chart.\"\"\"\n",
    "        if df.empty:\n",
    "            print(\"No data available for plotting.\")  # Handle empty DataFrame\n",
    "            return\n",
    "        # Plot temperature data with time as the x-axis\n",
    "        df.set_index('Time')[['Temperature Min (°C)', 'Temperature Max (°C)', 'Temperature Mean (°C)']].plot(\n",
    "            figsize=(10, 6), title='Temperature Over Time', grid=True\n",
    "        )\n",
    "        plt.xlabel('Time')  # Label x-axis\n",
    "        plt.ylabel('Temperature (°C)')  # Label y-axis\n",
    "        plt.xticks(rotation=45)  # Rotate x-axis labels for readability\n",
    "        plt.tight_layout()  # Adjust layout to prevent overlap\n",
    "        plt.show()\n",
    "\n",
    "   @staticmethod\n",
    "    # Method to plot a heatmap of temperature correlations\n",
    "    def plot_correlation_heatmap(df):\n",
    "        \"\"\"Generate a heatmap for correlations.\"\"\"\n",
    "        if df.empty:\n",
    "            print(\"No data available for correlation heatmap.\")  # Handle empty DataFrame\n",
    "            return\n",
    "        # Compute correlation matrix and plot heatmap\n",
    "        corr_matrix = df[['Temperature Min (°C)', 'Temperature Max (°C)', 'Temperature Mean (°C)']].corr()\n",
    "        plt.figure(figsize=(10, 6))\n",
    "        sb.heatmap(corr_matrix, annot=True, cmap=\"coolwarm\", fmt=\".2f\")  # Display correlations\n",
    "        plt.title(\"Correlation Matrix of Weather Data\")  # Title for the heatmap\n",
    "        plt.show()\n",
    "\n",
    "    @staticmethod\n",
    "    # Method to plot a bar chart of mean temperatures\n",
    "    def plot_bar_chart(df):\n",
    "        \"\"\"Create a bar chart for temperature variations.\"\"\"\n",
    "        if df.empty:\n",
    "            print(\"No data available for bar chart.\")  # Handle empty DataFrame\n",
    "            return\n",
    "        # Plot bar chart with mean temperatures over time\n",
    "        df.set_index('Time')['Temperature Mean (°C)'].plot.bar(\n",
    "            figsize=(15, 6), color='skyblue', title='Mean Temperature Over Time'\n",
    "        )\n",
    "        plt.xlabel('Time')  # Label x-axis\n",
    "        plt.ylabel('Temperature Mean (°C)')  # Label y-axis\n",
    "        plt.xticks(rotation=45)  # Rotate x-axis labels for readability\n",
    "        plt.tight_layout()  # Adjust layout to prevent overlap\n",
    "        plt.show()"
   ]
  }
 ],
 "metadata": {
  "kernelspec": {
   "display_name": "Python 3 (ipykernel)",
   "language": "python",
   "name": "python3"
  },
  "language_info": {
   "codemirror_mode": {
    "name": "ipython",
    "version": 3
   },
   "file_extension": ".py",
   "mimetype": "text/x-python",
   "name": "python",
   "nbconvert_exporter": "python",
   "pygments_lexer": "ipython3",
   "version": "3.12.4"
  }
 },
 "nbformat": 4,
 "nbformat_minor": 5
}
