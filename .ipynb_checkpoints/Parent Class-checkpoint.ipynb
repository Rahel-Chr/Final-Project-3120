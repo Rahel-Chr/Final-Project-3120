{
 "cells": [
  {
   "cell_type": "code",
   "execution_count": null,
   "id": "a709be6e-312f-4f98-8a97-d12f41ab10ea",
   "metadata": {},
   "outputs": [],
   "source": [
    "# Parent class: WeatherAPI (Handles API interactions)\n",
    "class WeatherAPI:\n",
    "    # Initialize the class with latitude, longitude, API key, and API URL\n",
    "    def __init__(self, lat, lon, api_key):\n",
    "        self.lat = lat  # Latitude for the location\n",
    "        self.lon = lon  # Longitude for the location\n",
    "        self.api_key = api_key  # API key for authentication\n",
    "        self.url = 'https://api.openweathermap.org/data/2.5/forecast'  # API endpoint\n",
    "\n",
    "    # Method to fetch data from the Weather API\n",
    "    def gather_data(self):\n",
    "        \"\"\"Fetch data from the Weather API.\"\"\"\n",
    "        # Parameters for the API request\n",
    "        params = {\n",
    "            'lat': self.lat,\n",
    "            'lon': self.lon,\n",
    "            'units': 'metric',  # Request data in Celsius units\n",
    "            'appid': self.api_key  # API key for authentication\n",
    "        }\n",
    "        try:\n",
    "            # Send GET request to the API\n",
    "            response = requests.get(self.url, params=params)\n",
    "            response.raise_for_status()  # Raise HTTPError for bad responses\n",
    "            return response.json()  # Return JSON response as Python dictionary\n",
    "        except requests.exceptions.RequestException as e:\n",
    "            # Handle any request errors\n",
    "            print(f\"Error fetching data: {e}\")\n",
    "            return None  # Return None if an error occurs\n"
   ]
  }
 ],
 "metadata": {
  "kernelspec": {
   "display_name": "Python 3 (ipykernel)",
   "language": "python",
   "name": "python3"
  },
  "language_info": {
   "codemirror_mode": {
    "name": "ipython",
    "version": 3
   },
   "file_extension": ".py",
   "mimetype": "text/x-python",
   "name": "python",
   "nbconvert_exporter": "python",
   "pygments_lexer": "ipython3",
   "version": "3.12.4"
  }
 },
 "nbformat": 4,
 "nbformat_minor": 5
}
