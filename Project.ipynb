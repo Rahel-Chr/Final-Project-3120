{
 "cells": [
  {
   "cell_type": "markdown",
   "id": "53149214",
   "metadata": {},
   "source": [
    "Extract Data From API "
   ]
  },
  {
   "cell_type": "code",
   "execution_count": 7,
   "id": "2a404352",
   "metadata": {},
   "outputs": [
    {
     "name": "stdout",
     "output_type": "stream",
     "text": [
      "    Temperature Min (°C)  Temperature Max (°C)  Temperature Mean (°C)\n",
      "0                   7.95                  8.48                   7.95\n",
      "1                   8.25                  8.84                   8.25\n",
      "2                   8.86                  9.31                   8.86\n",
      "3                   6.29                  6.29                   6.29\n",
      "4                   5.63                  5.63                   5.63\n",
      "5                   5.24                  5.24                   5.24\n",
      "6                   4.78                  4.78                   4.78\n",
      "7                   4.73                  4.73                   4.73\n",
      "8                   7.87                  7.87                   7.87\n",
      "9                  11.17                 11.17                  11.17\n",
      "10                 10.81                 10.81                  10.81\n",
      "11                  7.34                  7.34                   7.34\n",
      "12                  7.30                  7.30                   7.30\n",
      "13                  6.17                  6.17                   6.17\n",
      "14                  5.80                  5.80                   5.80\n",
      "15                  5.76                  5.76                   5.76\n",
      "16                  6.27                  6.27                   6.27\n",
      "17                  9.09                  9.09                   9.09\n",
      "18                  9.18                  9.18                   9.18\n",
      "19                  5.99                  5.99                   5.99\n",
      "20                  6.79                  6.79                   6.79\n",
      "21                  6.43                  6.43                   6.43\n",
      "22                  5.70                  5.70                   5.70\n",
      "23                  5.58                  5.58                   5.58\n",
      "24                  6.80                  6.80                   6.80\n",
      "25                  6.94                  6.94                   6.94\n",
      "26                  8.25                  8.25                   8.25\n",
      "27                  5.64                  5.64                   5.64\n",
      "28                  5.01                  5.01                   5.01\n",
      "29                  7.37                  7.37                   7.37\n",
      "30                  7.76                  7.76                   7.76\n",
      "31                  6.95                  6.95                   6.95\n",
      "32                  8.01                  8.01                   8.01\n",
      "33                 10.17                 10.17                  10.17\n",
      "34                  6.12                  6.12                   6.12\n",
      "35                  4.22                  4.22                   4.22\n",
      "36                  3.49                  3.49                   3.49\n",
      "37                  2.84                  2.84                   2.84\n",
      "38                  2.20                  2.20                   2.20\n",
      "39                  2.62                  2.62                   2.62\n"
     ]
    }
   ],
   "source": [
    "import requests\n",
    "import pandas as pd\n",
    "import key  # Ensure key.api_key is defined in the key.py file\n",
    "\n",
    "# API endpoint and parameters\n",
    "url = 'https://api.openweathermap.org/data/2.5/forecast'\n",
    "params = {\n",
    "    'lat': 35,  # Latitude for the location\n",
    "    'lon': 139,  # Longitude for the location\n",
    "    'units': 'metric',  # Use metric units for temperature (°C)\n",
    "    'appid': key.api_key  # API key\n",
    "}\n",
    "\n",
    "# Make the GET request\n",
    "response = requests.get(url, params=params)\n",
    "\n",
    "if response.status_code == 200:\n",
    "    data = response.json()  # Parse JSON data\n",
    "    \n",
    "    # Extract data from the response\n",
    "    forecast_list = data['list']\n",
    "    temperature_min = [entry['main']['temp_min'] for entry in forecast_list]\n",
    "    temperature_max = [entry['main']['temp_max'] for entry in forecast_list]\n",
    "    temperature_mean = [entry['main']['temp'] for entry in forecast_list]\n",
    "\n",
    "    # Create a DataFrame\n",
    "    weather_data = {\n",
    "        'Temperature Min (°C)': temperature_min,\n",
    "        'Temperature Max (°C)': temperature_max,\n",
    "        'Temperature Mean (°C)': temperature_mean\n",
    "    }\n",
    "    df = pd.DataFrame(weather_data)\n",
    "    print(df)\n",
    "else:\n",
    "    print(f'Failed to fetch data from the API. Status code: {response.status_code}, Error: {response.text}')\n"
   ]
  }
 ],
 "metadata": {
  "kernelspec": {
   "display_name": "Python 3",
   "language": "python",
   "name": "python3"
  },
  "language_info": {
   "codemirror_mode": {
    "name": "ipython",
    "version": 3
   },
   "file_extension": ".py",
   "mimetype": "text/x-python",
   "name": "python",
   "nbconvert_exporter": "python",
   "pygments_lexer": "ipython3",
   "version": "3.12.4"
  }
 },
 "nbformat": 4,
 "nbformat_minor": 5
}
