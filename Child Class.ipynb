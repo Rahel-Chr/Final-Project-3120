{
 "cells": [
  {
   "cell_type": "code",
   "execution_count": null,
   "id": "3c823fa7-034d-4f2e-be27-74a3ab91207e",
   "metadata": {},
   "outputs": [],
   "source": [
    "# Child class: EnhancedWeatherAPI (Adds data filtering)\n",
    "class EnhancedWeatherAPI(WeatherAPI):\n",
    "    # Method to extract and filter relevant weather data\n",
    "    def filter_data(self, data):\n",
    "        \"\"\"Extract relevant weather data and return as a DataFrame.\"\"\"\n",
    "        try:\n",
    "            forecast_list = data['list']  # Extract the list of forecasts\n",
    "            # Create a dictionary with relevant weather data\n",
    "            weather_data = {\n",
    "                'Time': [entry['dt_txt'] for entry in forecast_list],  # Extract time of forecast\n",
    "                'Temperature Min (°C)': [entry['main']['temp_min'] for entry in forecast_list],  # Min temp\n",
    "                'Temperature Max (°C)': [entry['main']['temp_max'] for entry in forecast_list],  # Max temp\n",
    "                'Temperature Mean (°C)': [entry['main']['temp'] for entry in forecast_list]  # Mean temp\n",
    "            }\n",
    "            return pd.DataFrame(weather_data)  # Convert dictionary to DataFrame\n",
    "        except KeyError as e:\n",
    "            # Handle missing keys in the API response\n",
    "            print(f\"Data processing error: {e}\")\n",
    "            return pd.DataFrame()  # Return an empty DataFrame if an error occurs"
   ]
  }
 ],
 "metadata": {
  "kernelspec": {
   "display_name": "Python 3 (ipykernel)",
   "language": "python",
   "name": "python3"
  },
  "language_info": {
   "codemirror_mode": {
    "name": "ipython",
    "version": 3
   },
   "file_extension": ".py",
   "mimetype": "text/x-python",
   "name": "python",
   "nbconvert_exporter": "python",
   "pygments_lexer": "ipython3",
   "version": "3.12.4"
  }
 },
 "nbformat": 4,
 "nbformat_minor": 5
}
